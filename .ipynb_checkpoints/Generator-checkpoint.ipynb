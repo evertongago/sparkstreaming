{
 "cells": [
  {
   "cell_type": "code",
   "execution_count": 6,
   "metadata": {},
   "outputs": [],
   "source": [
    "import datetime, random, time, json\n",
    "\n",
    "for i in range(10):\n",
    "    # random timestamp\n",
    "    h = random.randint(17, 20)\n",
    "    m = random.randint(0, 59)\n",
    "    date = '2021-06-16 {}:{}:00'.format(h, m)\n",
    "    timestamp = int(time.mktime(datetime.datetime.strptime(date, '%Y-%m-%d %H:%M:%S').timetuple()))\n",
    "\n",
    "    # random tag_id\n",
    "    t_id = random.randint(1, 10)\n",
    "\n",
    "    # random locale id\n",
    "    l_id = random.randint(1, 20)\n",
    "\n",
    "    data = {}\n",
    "    data['tag_id'] = t_id\n",
    "    data['loc_id'] = l_id\n",
    "    data['timestamp'] = timestamp\n",
    "\n",
    "    with open('datasets/tran/{}.json'.format(i), 'w') as f:\n",
    "        json.dump(data, f)\n",
    "        f.close()"
   ]
  }
 ],
 "metadata": {
  "kernelspec": {
   "display_name": "Python 3",
   "language": "python",
   "name": "python3"
  },
  "language_info": {
   "codemirror_mode": {
    "name": "ipython",
    "version": 3
   },
   "file_extension": ".py",
   "mimetype": "text/x-python",
   "name": "python",
   "nbconvert_exporter": "python",
   "pygments_lexer": "ipython3",
   "version": "3.8.5"
  }
 },
 "nbformat": 4,
 "nbformat_minor": 4
}
