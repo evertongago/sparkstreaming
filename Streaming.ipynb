{
 "cells": [
  {
   "cell_type": "code",
   "execution_count": 1,
   "metadata": {},
   "outputs": [],
   "source": [
    "from pyspark.sql import functions as F, types as T\n",
    "from pyspark.sql import SparkSession"
   ]
  },
  {
   "cell_type": "code",
   "execution_count": 2,
   "metadata": {},
   "outputs": [
    {
     "data": {
      "text/html": [
       "\n",
       "            <div>\n",
       "                <p><b>SparkSession - in-memory</b></p>\n",
       "                \n",
       "        <div>\n",
       "            <p><b>SparkContext</b></p>\n",
       "\n",
       "            <p><a href=\"http://41801451a930:4040\">Spark UI</a></p>\n",
       "\n",
       "            <dl>\n",
       "              <dt>Version</dt>\n",
       "                <dd><code>v3.1.1</code></dd>\n",
       "              <dt>Master</dt>\n",
       "                <dd><code>local[*]</code></dd>\n",
       "              <dt>AppName</dt>\n",
       "                <dd><code>pyspark-shell</code></dd>\n",
       "            </dl>\n",
       "        </div>\n",
       "        \n",
       "            </div>\n",
       "        "
      ],
      "text/plain": [
       "<pyspark.sql.session.SparkSession at 0x7fc55c3120d0>"
      ]
     },
     "execution_count": 2,
     "metadata": {},
     "output_type": "execute_result"
    }
   ],
   "source": [
    "spark = SparkSession.builder.getOrCreate()\n",
    "spark"
   ]
  },
  {
   "cell_type": "code",
   "execution_count": 3,
   "metadata": {},
   "outputs": [],
   "source": [
    "schema_cust = T.StructType([\n",
    "    T.StructField('tag_id', T.IntegerType(), False),\n",
    "    T.StructField('usr_nm', T.StringType(), False)\n",
    "])\n",
    "\n",
    "schema_tran = T.StructType([\n",
    "    T.StructField('tag_id', T.IntegerType(), False),\n",
    "    T.StructField('loc_id', T.IntegerType(), False),\n",
    "    T.StructField('timestamp', T.TimestampType(), False)\n",
    "])"
   ]
  },
  {
   "cell_type": "code",
   "execution_count": 5,
   "metadata": {},
   "outputs": [
    {
     "name": "stdout",
     "output_type": "stream",
     "text": [
      "+------+--------------+\n",
      "|tag_id|        usr_nm|\n",
      "+------+--------------+\n",
      "|     1|  ABC da Silva|\n",
      "|     2|  DEF de Souza|\n",
      "|     3|JKL dos Santos|\n",
      "|     4|  MNO Monteiro|\n",
      "|     5|  PQR de Souza|\n",
      "|     6|  STU da Silva|\n",
      "|     7|XYZ dos Santos|\n",
      "|     8|  AAA de Paula|\n",
      "|     9|    BBB Santos|\n",
      "|    10|CCC de Almeida|\n",
      "+------+--------------+\n",
      "\n"
     ]
    }
   ],
   "source": [
    "cust_path = 'datasets/cust/'\n",
    "df_cust = spark \\\n",
    "    .read \\\n",
    "    .schema(schema_cust) \\\n",
    "    .json(cust_path)\n",
    "\n",
    "df_cust.show()"
   ]
  },
  {
   "cell_type": "code",
   "execution_count": 6,
   "metadata": {},
   "outputs": [
    {
     "data": {
      "text/plain": [
       "<pyspark.sql.streaming.StreamingQuery at 0x7fc5785df670>"
      ]
     },
     "execution_count": 6,
     "metadata": {},
     "output_type": "execute_result"
    }
   ],
   "source": [
    "tran_path = 'datasets/tran/'\n",
    "df_tran = spark \\\n",
    "    .readStream \\\n",
    "    .schema(schema_tran) \\\n",
    "    .option('maxFilesPerTrigger', 1) \\\n",
    "    .json(tran_path)\n",
    "\n",
    "ckpt_path = 'checkpoints/'\n",
    "join_path = 'datasets/joinned/'\n",
    "df_tran.alias('t') \\\n",
    "    .join(df_cust.alias('c'), 'tag_id') \\\n",
    "    .select(['t.tag_id','t.loc_id','t.timestamp','c.usr_nm']) \\\n",
    "    .writeStream \\\n",
    "    .format('delta') \\\n",
    "    .option('checkpointLocation', ckpt_path) \\\n",
    "    .start(join_path)"
   ]
  },
  {
   "cell_type": "code",
   "execution_count": 7,
   "metadata": {},
   "outputs": [],
   "source": [
    "grouped = spark \\\n",
    "    .readStream \\\n",
    "    .format('delta') \\\n",
    "    .load(join_path) \\\n",
    "    .groupBy(F.col('tag_id'), F.window(F.col('timestamp'), '1 hour')) \\\n",
    "    .count() \\\n",
    "    .writeStream \\\n",
    "    .format('memory') \\\n",
    "    .queryName('counts') \\\n",
    "    .outputMode('complete') \\\n",
    "    .start()"
   ]
  },
  {
   "cell_type": "code",
   "execution_count": 13,
   "metadata": {},
   "outputs": [
    {
     "name": "stdout",
     "output_type": "stream",
     "text": [
      "+------+------------+-----+\n",
      "|tag_id|        time|count|\n",
      "+------+------------+-----+\n",
      "|     1|Jun-16 19:00|    3|\n",
      "|     2|Jun-16 19:00|    4|\n",
      "|     3|Jun-16 19:00|    1|\n",
      "|     4|Jun-16 19:00|    2|\n",
      "|     5|Jun-16 19:00|    2|\n",
      "|     6|Jun-16 19:00|    3|\n",
      "|     7|Jun-16 19:00|    4|\n",
      "|     8|Jun-16 19:00|    2|\n",
      "|     9|Jun-16 19:00|    2|\n",
      "|    10|Jun-16 19:00|    2|\n",
      "+------+------------+-----+\n",
      "\n"
     ]
    }
   ],
   "source": [
    "spark.sql('SELECT tag_id, date_format(window.end, \"MMM-dd HH:mm\") as time, count FROM counts ORDER BY time, tag_id').show()"
   ]
  }
 ],
 "metadata": {
  "kernelspec": {
   "display_name": "Python 3",
   "language": "python",
   "name": "python3"
  },
  "language_info": {
   "codemirror_mode": {
    "name": "ipython",
    "version": 3
   },
   "file_extension": ".py",
   "mimetype": "text/x-python",
   "name": "python",
   "nbconvert_exporter": "python",
   "pygments_lexer": "ipython3",
   "version": "3.8.5"
  }
 },
 "nbformat": 4,
 "nbformat_minor": 4
}
